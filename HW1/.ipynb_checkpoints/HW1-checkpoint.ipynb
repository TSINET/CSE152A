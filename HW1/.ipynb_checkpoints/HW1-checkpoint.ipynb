{
 "cells": [
  {
   "cell_type": "markdown",
   "metadata": {},
   "source": [
    "# CSE 152A Fall 2023 – Assignment 1\n"
   ]
  },
  {
   "cell_type": "markdown",
   "metadata": {},
   "source": [
    "- Assignment Published On: **Tue, Oct 10, 2023**\n",
    "\n",
    "- Due On: **Sat, Oct 21, 2023 11:59 PM (Pacific Time)**"
   ]
  },
  {
   "cell_type": "markdown",
   "metadata": {},
   "source": [
    "## Instructions\n",
    "\n",
    "Please answer the questions below using Python in the attached Jupyter notebook and follow the guidelines below:\n",
    " \n",
    "- This assignment must be completed **individually**. For more details, please follow the Academic Integrity Policy and Collaboration Policy posted on lecture slides.\n",
    "\n",
    "- All the solutions must be written in this Jupyter notebook.\n",
    "\n",
    "- After finishing the assignment in the notebook, please export the notebook as a PDF and submit both the notebook and the PDF (i.e. the `.ipynb` and the `.pdf` files) on Gradescope.\n",
    "\n",
    "- You may use basic algebra packages (e.g. `NumPy`, `SciPy`, etc) but you are not allowed to use open source codes that directly solve the problems. Feel free to ask the instructor and the teaching assistants if you are unsure about the packages to use.\n",
    "\n",
    "- It is highly recommended that you begin working on this assignment early.\n",
    "\n",
    "- Make sure that you read hints for questions (wherever given).\n",
    "\n",
    "**Late Policy:** Assignments submitted late will receive a 25% grade reduction for each 12 hours late (that is, 50% per day)."
   ]
  },
  {
   "cell_type": "markdown",
   "metadata": {},
   "source": [
    "## Problem 1: Photometric Stereo [20 pts]\n",
    "\n",
    "The goal of this problem is to implement Lambertian photometric stereo. \n",
    "\n",
    "Note that the albedo is unknown and non-constant in the images you will use.\n",
    "\n",
    "As input, your program should take in multiple images along with the light source direction for each image.\n",
    "\n",
    "### Data\n",
    "You will use synthetic images as data. These images are stored in `.pickle` files which were graciously provided by Satya Mallick. Each `.pickle` file contains\n",
    "\n",
    "* `im1`, `im2`, `im3`, `im4`, ... images.\n",
    "* `l1`, `l2`, `l3`, `l4`, ... light source directions.\n",
    "  \n",
    "You will find all the data for this part in `synthetic_data.pickle`.   \n",
    "<br/>  \n",
    "<b>Note:</b> Make sure to use `%matplotlib inline` to enable plotting by matplotlib in jupyter notebook/lab IDE"
   ]
  },
  {
   "cell_type": "code",
   "execution_count": null,
   "metadata": {},
   "outputs": [],
   "source": [
    "## Example: How to read and access data from a pickle\n",
    "\n",
    "import pickle\n",
    "import matplotlib.pyplot as plt\n",
    "%matplotlib inline\n",
    "pickle_in = open(\"synthetic_data.pickle\", \"rb\")\n",
    "data = pickle.load(pickle_in, encoding=\"latin1\")\n",
    "\n",
    "# data is a dict which stores each element as a key-value pair. \n",
    "print(\"Keys: \" + str(data.keys()))\n",
    "\n",
    "# To access the value of an entity, refer it by its key.\n",
    "print(\"Image:\")\n",
    "plt.imshow(data[\"im1\"], cmap = \"gray\")\n",
    "plt.show()\n",
    "\n",
    "print(\"Light source direction: \" + str(data[\"l1\"]))\n",
    "\n",
    "plt.imshow(data[\"im2\"], cmap = \"gray\")\n",
    "plt.show()\n",
    "\n",
    "print(\"Light source direction: \" + str(data[\"l2\"]))\n",
    "\n",
    "plt.imshow(data[\"im3\"], cmap = \"gray\")\n",
    "plt.show()\n",
    "\n",
    "print(\"Light source direction: \" + str(data[\"l3\"]))\n",
    "\n",
    "plt.imshow(data[\"im4\"], cmap = \"gray\")\n",
    "plt.show()\n",
    "\n",
    "print(\"Light source direction: \" + str(data[\"l4\"]))"
   ]
  },
  {
   "cell_type": "markdown",
   "metadata": {},
   "source": [
    "### 1(a) Photometric Stereo [8 pts]\n",
    "  \n",
    "Implement the photometric stereo technique described in the lecture. Your program should have two parts:\n",
    "<ul>\n",
    "<li>Read in the images and corresponding light source directions, and estimate the surface normals and albedo map. </li>\n",
    "    <li>Reconstruct the depth map from the surface with the implementation of the Horn integration technique given below in `horn_integrate` function. Note that you will typically want to run the `horn_integrate` function with 10000 - 100000 iterations, meaning it will take a while.</li></ul>    \n",
    "<br/>\n",
    "$\\textbf{Note:}$ The following `horn_integrate()` function is not to be edited for the purpose of solving this homework. Consider this to be a blackbox! "
   ]
  },
  {
   "cell_type": "code",
   "execution_count": null,
   "metadata": {},
   "outputs": [],
   "source": [
    "import numpy as np\n",
    "from scipy.signal import convolve\n",
    "from numpy import linalg\n",
    "\n",
    "# This function should be used as is for this homework.\n",
    "def horn_integrate(gx, gy, mask, niter):\n",
    "    \"\"\"\n",
    "    horn_integrate recovers the function g from its partial \n",
    "    derivatives gx and gy. \n",
    "    mask is a binary image which tells which pixels are \n",
    "    involved in integration. \n",
    "    niter is the number of iterations. \n",
    "    typically 100,000 or 200,000, \n",
    "    although the trend can be seen even after 1000 iterations.\n",
    "    \"\"\"\n",
    "    g = np.ones(np.shape(gx))\n",
    "    \n",
    "    gx = np.multiply(gx, mask)\n",
    "    gy = np.multiply(gy, mask)\n",
    "    \n",
    "    A = np.array([[0,1,0],[0,0,0],[0,0,0]]) #y-1\n",
    "    B = np.array([[0,0,0],[1,0,0],[0,0,0]]) #x-1\n",
    "    C = np.array([[0,0,0],[0,0,1],[0,0,0]]) #x+1\n",
    "    D = np.array([[0,0,0],[0,0,0],[0,1,0]]) #y+1\n",
    "    \n",
    "    d_mask = A + B + C + D\n",
    "    \n",
    "    den = np.multiply(convolve(mask,d_mask,mode=\"same\"),mask)\n",
    "    den[den == 0] = 1\n",
    "    rden = 1.0 / den\n",
    "    mask2 = np.multiply(rden, mask)\n",
    "    \n",
    "    m_a = convolve(mask, A, mode=\"same\")\n",
    "    m_b = convolve(mask, B, mode=\"same\")\n",
    "    m_c = convolve(mask, C, mode=\"same\")\n",
    "    m_d = convolve(mask, D, mode=\"same\")\n",
    "    \n",
    "    term_right = np.multiply(m_c, gx) + np.multiply(m_d, gy)\n",
    "    t_a = -1.0 * convolve(gx, B, mode=\"same\")\n",
    "    t_b = -1.0 * convolve(gy, A, mode=\"same\")\n",
    "    term_right = term_right + t_a + t_b\n",
    "    term_right = np.multiply(mask2, term_right)\n",
    "    \n",
    "    for k in range(niter):\n",
    "        g = np.multiply(mask2, convolve(g, d_mask, mode=\"same\")) + term_right\n",
    "    \n",
    "    return g"
   ]
  },
  {
   "cell_type": "markdown",
   "metadata": {},
   "source": [
    "### !! Hint !! \n",
    "\n",
    "For computing partial derivatives, please note that this specific question assumes the following convention compared to the one presented in the class (that contains a negative sign). \n",
    "\n",
    "\\begin{eqnarray}\n",
    "\\frac{\\partial z}{\\partial x} = \\frac{\\hat{n}_1}{\\hat{n}_3} \\\\ \n",
    "\\frac{\\partial z}{\\partial y} = \\frac{\\hat{n}_2}{\\hat{n}_3}\n",
    "\\end{eqnarray}\n",
    "\n",
    "Make sure to use the above convention to avoid painful debugging later on! Also, double check that the normals being used for plotting are unit normals. "
   ]
  },
  {
   "cell_type": "code",
   "execution_count": null,
   "metadata": {},
   "outputs": [],
   "source": [
    "def photometric_stereo(images, lights, mask, horn_niter=25000):\n",
    "    \n",
    "    \"\"\"mask is an optional parameter which you are encouraged to use.\n",
    "    It can be used e.g. to ignore the background when integrating the normals.\n",
    "    It should be created by converting the images to grayscale and thresholding\n",
    "    (only using locations for which the pixel value is above some threshold).\n",
    "    \n",
    "    The choice of threshold is something you can experiment with,\n",
    "    but in practice something like 0.05 tends to work well.\n",
    "    \"\"\"\n",
    "\n",
    "    # note:\n",
    "    # images : (n_ims, h, w)\n",
    "    # lights : (n_ims, 3)\n",
    "    # mask   : (h, w)\n",
    "    \n",
    "    albedo = np.ones(images[0].shape)\n",
    "    normals = np.dstack((np.zeros(images[0].shape),\n",
    "                         np.zeros(images[0].shape),\n",
    "                         np.ones(images[0].shape)))\n",
    "\n",
    "    H_horn = np.ones(images[0].shape)\n",
    "    \n",
    "    \"\"\" ==========\n",
    "    YOUR CODE HERE\n",
    "    ========== \"\"\"\n",
    "    \n",
    "    return albedo, normals, H_horn"
   ]
  },
  {
   "cell_type": "markdown",
   "metadata": {},
   "source": [
    "### 1(b) Display outputs using `im1`, `im2` and `im4` [6 Points]\n",
    "  \n",
    "<ul>\n",
    "<li>The estimated albedo map.</li>\n",
    "\n",
    "<li>The estimated surface normals by showing both\n",
    "    <ul>\n",
    "        <li>Needle map, and</li>\n",
    "        <li>Three images showing the components of the surface normal.</li>\n",
    "    </ul>\n",
    "<li>A wireframe of the depth map.</li>\n",
    "</ul>\n",
    "\n",
    "An example of the outputs are shown below:\n",
    "\n",
    "![Problem1%20example.png](Problem1%20example.png)"
   ]
  },
  {
   "cell_type": "code",
   "execution_count": null,
   "metadata": {},
   "outputs": [],
   "source": [
    "from mpl_toolkits.mplot3d import Axes3D\n",
    "\n",
    "# --------------------------------------------------------------------------\n",
    "# The following code is just a working example so you don't get stuck with any\n",
    "# of the graphs required. You may want to write your own code to align the\n",
    "# results in a better layout. You are also free to change the function\n",
    "# however you wish; just make sure you get all of the required outputs.\n",
    "# --------------------------------------------------------------------------\n",
    "\n",
    "def visualize(albedo, normals, horn_depth):\n",
    "    # Stride in the plot, you may want to adjust it to different images\n",
    "    stride = 15\n",
    "\n",
    "    # showing albedo map\n",
    "    fig = plt.figure()\n",
    "    albedo_max = albedo.max()\n",
    "    albedo = albedo / albedo_max\n",
    "    plt.imshow(albedo, cmap=\"gray\")\n",
    "    plt.show()\n",
    "\n",
    "    # showing normals as three separate channels\n",
    "    figure = plt.figure()\n",
    "    ax1 = figure.add_subplot(131)\n",
    "    ax1.imshow(normals[..., 0])\n",
    "    ax2 = figure.add_subplot(132)\n",
    "    ax2.imshow(normals[..., 1])\n",
    "    ax3 = figure.add_subplot(133)\n",
    "    ax3.imshow(normals[..., 2])\n",
    "    plt.show()\n",
    "\n",
    "    # showing normals as quiver\n",
    "    X, Y, _ = np.meshgrid(np.arange(0,np.shape(normals)[0], 15),\n",
    "                          np.arange(0,np.shape(normals)[1], 15),\n",
    "                          np.arange(1))\n",
    "    X = X[..., 0]\n",
    "    Y = Y[..., 0]\n",
    "    Z = horn_depth[::stride,::stride].T\n",
    "    NX = normals[..., 0][::stride,::-stride].T\n",
    "    NY = normals[..., 1][::-stride,::stride].T\n",
    "    NZ = normals[..., 2][::stride,::stride].T\n",
    "    fig = plt.figure(figsize=(5, 5))\n",
    "    ax = fig.add_subplot(projection='3d')\n",
    "    plt.quiver(Y,X,Z,NX,NY,NZ, length=10)\n",
    "    plt.show()\n",
    "\n",
    "    # plotting wireframe depth map\n",
    "\n",
    "    H = horn_depth[::stride,::stride]\n",
    "    fig = plt.figure()\n",
    "    ax = fig.add_subplot(projection='3d')\n",
    "    ax.plot_surface(X,Y, H.T)\n",
    "    plt.show()"
   ]
  },
  {
   "cell_type": "code",
   "execution_count": null,
   "metadata": {},
   "outputs": [],
   "source": [
    "pickle_in = open(\"synthetic_data.pickle\", \"rb\")\n",
    "data = pickle.load(pickle_in, encoding=\"latin1\")\n",
    "\n",
    "lights = np.vstack((data[\"l1\"], data[\"l2\"], data[\"l4\"]))\n",
    "\n",
    "images = []\n",
    "images.append(data[\"im1\"])\n",
    "images.append(data[\"im2\"])\n",
    "images.append(data[\"im4\"])\n",
    "images = np.array(images)\n",
    "\n",
    "mask = np.ones(data[\"im1\"].shape)\n",
    "\n",
    "albedo, normals, horn_depth = photometric_stereo(images, lights, mask)\n",
    "\n",
    "visualize(albedo, normals, horn_depth)"
   ]
  },
  {
   "cell_type": "markdown",
   "metadata": {},
   "source": [
    "### 1(c) Display outputs using all four images (most accurate result) [6 points]\n",
    "\n",
    "<ul>\n",
    "<li>The estimated albedo map.</li>\n",
    "\n",
    "<li>The estimated surface normals by showing both\n",
    "    <ul>\n",
    "        <li>Needle map, and</li>\n",
    "        <li>Three images showing components of surface normal.</li>\n",
    "    </ul>\n",
    "<li>A wireframe of depth map.</li>\n",
    "</ul>\n",
    "  \n",
    "<b>Note:</b> Feel free to use the same mask as used in the previous part.\n",
    "\n",
    "#### !! Hint !! \n",
    "\n",
    "You can refer to the code used in the cell above and adapt it to display the outputs for all the four images i.e im1, im2, im3 and im4 instead of just the 3 images i.e im1, im2 and im4 used before."
   ]
  },
  {
   "cell_type": "code",
   "execution_count": null,
   "metadata": {},
   "outputs": [],
   "source": [
    "\"\"\" ==========\n",
    "YOUR CODE HERE\n",
    "========== \"\"\"\n"
   ]
  },
  {
   "cell_type": "markdown",
   "metadata": {},
   "source": [
    "## Problem 2: Image Rendering [20 points]\n",
    "\n",
    "\n",
    "In this exercise, we will render the image of a face with two different point light sources using a Lambertian reflectance model. We will use two albedo maps, one uniform and one that is more realistic. The face heightmap, the light sources, and the two albedo are given in facedata.npy for Python (each row of the `lightsource` variable encode a light location). The data from facedata.npy is already provided to you.\n",
    "\n",
    "<b>Note:</b> Please make good use out of subplot to display related image next to eachother."
   ]
  },
  {
   "cell_type": "markdown",
   "metadata": {},
   "source": [
    "### 2(a) Plot the face in 2-D [2 pts]\n",
    "\n",
    "Plot both albedo maps using `imshow`. Explain what you observe in brief."
   ]
  },
  {
   "cell_type": "code",
   "execution_count": null,
   "metadata": {},
   "outputs": [],
   "source": [
    "import numpy as np\n",
    "import matplotlib.pyplot as plt\n",
    "from matplotlib.path import Path\n",
    "import matplotlib.patches as patches\n",
    "\n",
    "# Load facedata.npy as ndarray\n",
    "face_data = np.load('facedata.npy',encoding='latin1', allow_pickle=True)\n",
    "\n",
    "# Load albedo matrix \n",
    "albedo = face_data.item().get('albedo')\n",
    "\n",
    "# Load uniform albedo matrix\n",
    "uniform_albedo = face_data.item().get('uniform_albedo')\n",
    "\n",
    "# Load heightmap \n",
    "heightmap = face_data.item().get('heightmap')\n",
    "\n",
    "# Load light source\n",
    "light_source = face_data.item().get('lightsource')\n"
   ]
  },
  {
   "cell_type": "markdown",
   "metadata": {},
   "source": [
    "### !! Hint !! \n",
    "\n",
    "Use the following link to learn about subplots: https://matplotlib.org/stable/api/_as_gen/matplotlib.pyplot.subplots.html\n",
    "\n",
    "Make sure to use `cmap=gray` while showing the images in grayscale format otherwise you can expect to see green-yellow colors. "
   ]
  },
  {
   "cell_type": "code",
   "execution_count": null,
   "metadata": {},
   "outputs": [],
   "source": [
    "# Plot the face in 2-D (plot both albedo maps using imshow)\n",
    "\n",
    "\"\"\" ==========\n",
    "YOUR CODE HERE\n",
    "========== \"\"\"\n"
   ]
  },
  {
   "cell_type": "markdown",
   "metadata": {},
   "source": [
    "### 2(b) Plot the face in 3-D [2 pts]\n",
    "\n",
    "Using both the heightmap and the albedo, plot the face using plot\\_surface. Do this for both albedos. Explain what you see.\n",
    "<br/>\n",
    "  \n",
    "Learn about creating mesh grids here: https://numpy.org/doc/stable/reference/generated/numpy.mgrid.html alternativly use https://numpy.org/doc/stable/reference/generated/numpy.meshgrid.html\n",
    "\n",
    "Learn about plotting surfaces here: https://matplotlib.org/2.2.5/api/_as_gen/mpl_toolkits.mplot3d.axes3d.Axes3D.html?highlight=plot_surface#mpl_toolkits.mplot3d.axes3d.Axes3D.plot_surface\n",
    "\n",
    "This example may help you to put things together: https://matplotlib.org/2.0.2/examples/mplot3d/surface3d_demo.html\n"
   ]
  },
  {
   "cell_type": "markdown",
   "metadata": {},
   "source": [
    "### !! Hint !! \n",
    "\n",
    "Make sure to set strides to one, cmap should be gray, linewidth is zero and antialiased is set to false. Figure out how to use albedo via the parameter facecolors -- you may want to look up `plt.cm.gray()`!!"
   ]
  },
  {
   "cell_type": "code",
   "execution_count": null,
   "metadata": {},
   "outputs": [],
   "source": [
    "# Plot the face in 3-D \n",
    "# (Using the heightmap & albedo plot the faces using plot_surface)\n",
    "\n",
    "\"\"\" ==========\n",
    "YOUR CODE HERE\n",
    "========== \"\"\"\n"
   ]
  },
  {
   "cell_type": "markdown",
   "metadata": {},
   "source": [
    "### 2(c) Surface normals [8 pts]\n",
    "\n",
    "Calculate the surface normals and display them as a quiver plot using quiver in matplotlib.pyplot in Python. Recall that the surface normals are given by \n",
    "\\begin{eqnarray}\n",
    "[-\\frac{\\delta f}{\\delta x}, -\\frac{\\delta f}{\\delta y}, 1].\n",
    "\\end{eqnarray}\n",
    "Also, recall, that each normal vector should be normalized to unit length."
   ]
  },
  {
   "cell_type": "markdown",
   "metadata": {},
   "source": [
    "### !! Hint !! \n",
    "\n",
    "You can use differencing to compute spatial derivatices (think about how to handle the boundaries?). You are also free to use convolutions (covered later in the class) which happens to be a much easier way of computing these derivatives. Learn about them here: https://docs.scipy.org/doc/scipy/reference/generated/scipy.signal.convolve.html Which `mode` should you use?\n",
    "\n",
    "For the quiver plots, read up https://matplotlib.org/stable/gallery/mplot3d/quiver3d.html and make sure to use `length=10`. "
   ]
  },
  {
   "cell_type": "code",
   "execution_count": null,
   "metadata": {},
   "outputs": [],
   "source": [
    "# Compute and plot the surface normals\n",
    "# (make sure that the normal vector is normalized to unit length)\n",
    "\n",
    "normals = np.stack((np.zeros(heightmap.shape),np.zeros(heightmap.shape),np.ones(heightmap.shape)), axis=-1)\n",
    "\n",
    "# This part of the code should compute the normals i.e fill in the above normals variable correctly. Then just \n",
    "# execute the next cell to plot the surface normals\n",
    "\n",
    "\"\"\" ==========\n",
    "YOUR CODE HERE\n",
    "========== \"\"\""
   ]
  },
  {
   "cell_type": "code",
   "execution_count": null,
   "metadata": {},
   "outputs": [],
   "source": [
    "# This code is used to visualise the surface normals plot. \n",
    "# Feel free to change the stride variable below. However DO NOT change the other parts of this code. \n",
    "\n",
    "stride = 10\n",
    "X, Y = np.meshgrid(np.arange(0,np.shape(normals)[0], stride),\n",
    "                          np.arange(0,np.shape(normals)[1], stride))\n",
    "\n",
    "Z = heightmap[::stride,::stride].T\n",
    "NX = -normals[...,0][::stride,::-stride].T\n",
    "NY = -normals[...,1][::-stride,::stride].T\n",
    "NZ = normals[...,2][::stride,::stride].T\n",
    "fig = plt.figure(figsize=(5, 5))\n",
    "ax = fig.gca(projection='3d')\n",
    "plt.quiver(Y,X,Z,NX,NY,NZ, length=10)\n",
    "plt.show()"
   ]
  },
  {
   "cell_type": "markdown",
   "metadata": {},
   "source": [
    "### 2(d) Render images [8 pts]\n",
    "\n",
    "For each of the two albedos, render three images. One for each of the two light sources, and one for both light-sources combined. Display these in a $2 \\times 3$ subplot figure with titles. Recall that the general image formation equation is given by\n",
    "\\begin{eqnarray}\n",
    "I = a(x,y) \\hat{\\boldsymbol{\\mathrm{n}}}(x,y)^\\top \\hat{\\boldsymbol{\\mathrm{s}}}(x,y) s_0\n",
    "\\end{eqnarray}\n",
    "where $a(x,y)$ is the albedo for pixel $(x, y)$, $\\hat{n}(x,y)$ is the corresponding surface normal, $\\hat{s}(x,y)$ the light source direction, $s_0$ the light source intensity. Let the light source intensity be $1$ and make the `distant light source assumption'.\n",
    "Use imshow with appropriate keyword arguments ."
   ]
  },
  {
   "cell_type": "markdown",
   "metadata": {},
   "source": [
    "### !! Hint !! \n",
    "\n",
    "Make sure that the images computed by `lambertian()` are non-negative. Otherwise you will see gray image background (which should be black). "
   ]
  },
  {
   "cell_type": "code",
   "execution_count": null,
   "metadata": {},
   "outputs": [],
   "source": [
    "# Render Images\n",
    "\n",
    "def lambertian(normals, light, albedo, intensity, mask):\n",
    "    \"\"\" ==========\n",
    "    YOUR CODE HERE\n",
    "    ========== \"\"\"\n",
    "\n",
    "    pass"
   ]
  },
  {
   "cell_type": "markdown",
   "metadata": {},
   "source": [
    "### !! Hint !! \n",
    "When combining the two light sources, notice the linearity of the image formation equation and make sure that image values lie between 0 and 1. "
   ]
  },
  {
   "cell_type": "code",
   "execution_count": null,
   "metadata": {},
   "outputs": [],
   "source": [
    "# For each of the two albedos, render three images. \n",
    "# One for each of the two light sources, and one for both light-sources combined.\n",
    "\n",
    "\"\"\" ==========\n",
    "YOUR CODE HERE\n",
    "========== \"\"\"\n"
   ]
  },
  {
   "cell_type": "markdown",
   "metadata": {},
   "source": [
    "## Problem 3: Homogeneous Coordinates and Vanishing Points [20 points]\n",
    "  \n",
    "In class, we discussed the concept of homogeneous coordinates. In this example, we will confine ourselves to the real 2D plane. A point $(x, y)^\\top$ on the real 2D plane can be represented in homogeneous coordinates by a 3-vector $(wx, wy, w)^\\top$, where $w \\neq 0$ is any real number. All values of $w \\neq 0$ represent the same 2D point. Dividing out the third coordinate of a  homogeneous point $(x, y, z)$ converts it back to its 2D equivalent: $\\left( \\displaystyle\\frac{x}{z}, \\displaystyle\\frac{y}{z} \\right)^\\top$.\n",
    "\n",
    "Consider a line in the 2D plane, whose equation is given by $ax + by + c = 0$. This can equivalently be written as $\\textbf{l}^\\top \\textbf{x} = 0$, where $\\textbf{l} = (a, b, c)^\\top$ and $\\textbf{x} = (x, y, 1)^\\top$. Noticing that $\\textbf{x}$ is a homogeneous representation of $(x, y)^\\top$, we define $\\textbf{l}$ as a homogeneous representation of the line $ax + by + c = 0$. Note that the line $(ka)x + (kb)y + (kc) = 0$ for $k \\neq 0$ is the same as the line $ax + by + c = 0$, so the homogeneous representation of the line $ax + by + c = 0$ can be equivalently given by $(a, b, c)^\\top$ or $(ka, kb, kc)^\\top$ for any $k \\neq 0$.\n",
    "\n",
    "All points $(x, y)$ that lie on the line $ax + by + c = 0$ satisfy the equation $\\textbf{l}^\\top \\textbf{x} = 0$, thus, we can say that a condition for a homogeneous point $\\textbf{x}$ to lie on the homogeneous line $\\textbf{l}$ is that their dot product is zero, that is, $\\textbf{l}^\\top \\textbf{x} = 0$. We note this down as a fact:\n",
    "  \n",
    "<b>Fact 1:</b> A point $\\textbf{x}$ in homogeneous coordinates lies on the homogeneous line $\\textbf{l}$ if and only if\n",
    "$$\n",
    "\\textbf{x}^\\top \\textbf{l} = \\textbf{l}^\\top \\textbf{x} = 0\n",
    "$$\n",
    "\n",
    "<!--   <div style=\"text-align: right\"><b>[1 Point]</b></div> -->\n",
    "Now let us solve a few simple examples:\n",
    "\n",
    "<ul>\n",
    "    <li><b>3(a)</b> Give at least two homogeneous representations for the point $(4, 5)^\\top$ on the 2D plane, one with $w > 0$ and one with $w < 0$. <div style=\"text-align: right\"><b>[1 Point]</b></div></li>\n",
    "    "
   ]
  },
  {
   "cell_type": "code",
   "execution_count": null,
   "metadata": {},
   "outputs": [],
   "source": []
  },
  {
   "cell_type": "markdown",
   "metadata": {},
   "source": [
    "<ul>\n",
    "<li><b>3(b)</b> What is the equation of the line passing through the points $(1, 1)^\\top$ and $(-1, 2)^\\top$ [in the usual Cartesian coordinates]? Now write down a 3-vector that is a homogeneous representation for this line. <div style=\"text-align: right\"><b>[2 Points]</b></div></li>\n",
    "</ul>\n"
   ]
  },
  {
   "cell_type": "code",
   "execution_count": null,
   "metadata": {},
   "outputs": [],
   "source": []
  },
  {
   "cell_type": "markdown",
   "metadata": {},
   "source": [
    "We will now move on to consider the intersection of two lines. We make the claim that: \"The (homogeneous) point of intersection, $\\textbf{x}$, of two homogeneous lines $\\textbf{l}_1$ and $\\textbf{l}_2$ is\n",
    "$\\textbf{x} = \\textbf{l}_1 \\times \\textbf{l}_2$, where $\\times$ stands for the vector (or cross) product\". \n",
    "\n",
    "<ul>\n",
    "    <li><b>3(c)</b> In plain English, how will you express the condition a point must satisfy to lie at the intersection of two lines? Armed with this simple condition, and using <b>Fact 1</b>, can you briefly explain why $\\textbf{l}_1 \\times \\textbf{l}_2$ must lie at the intersection of lines $\\textbf{l}_1$ and $\\textbf{l}_2$? <div style=\"text-align: right\"><b>[5 Points]</b></div></li>\n",
    "</ul>"
   ]
  },
  {
   "cell_type": "code",
   "execution_count": null,
   "metadata": {},
   "outputs": [],
   "source": []
  },
  {
   "cell_type": "markdown",
   "metadata": {},
   "source": [
    "In the following, we will use the above stated claim for the intersection of two lines.\n",
    "  \n",
    "<ul>\n",
    "    <li><b>3(d)</b> Consider the two lines $x + y + 5 = 0$ and $3x - 5y + 7 = 0$. Use the claim in question <b>3(c)</b> to find their intersection in homogeneous coordinates. Next, convert this homogeneous point back to standard Cartesian coordinates and report the 2D point of intersection. <div style=\"text-align: right\"><b>[3 Points]</b></div></li>\n",
    "</ul>"
   ]
  },
  {
   "cell_type": "code",
   "execution_count": null,
   "metadata": {},
   "outputs": [],
   "source": []
  },
  {
   "cell_type": "markdown",
   "metadata": {},
   "source": [
    " <ul><li><b>3(e)</b> Consider the two lines $x + 2y + 1 = 0$ and $2x + 4y - 2 = 0$. What is the special relationship between these two lines in the Euclidean plane? What is their intersection in standard Cartesian coordinates? <div style=\"text-align: right\"><b>[2 Points]</b></div></li></ul>"
   ]
  },
  {
   "cell_type": "code",
   "execution_count": null,
   "metadata": {},
   "outputs": [],
   "source": []
  },
  {
   "cell_type": "markdown",
   "metadata": {},
   "source": [
    "<ul><li><b>3(f) </b> Write the homogeneous representations of the above two lines from part <b>3(e)</b> and compute their point of intersection in homogeneous coordinates. What is this point of intersection called in computer vision parlance?  <div style=\"text-align: right\"><b>[3 Points]</b></div></li></ul>\n",
    "   "
   ]
  },
  {
   "cell_type": "code",
   "execution_count": null,
   "metadata": {},
   "outputs": [],
   "source": []
  },
  {
   "cell_type": "markdown",
   "metadata": {},
   "source": [
    "<ul><li><b>3(g)</b> Do questions <b>3(e)</b> and <b>3(f)</b> justify the claim in class, that homogeneous coordinates provide a uniform treatment of line intersection, regardless of parallelism? Briefly explain.<div style=\"text-align: right\"><b>[2 Points]</b></div></li></ul>\n",
    "  "
   ]
  },
  {
   "cell_type": "code",
   "execution_count": null,
   "metadata": {},
   "outputs": [],
   "source": []
  },
  {
   "cell_type": "markdown",
   "metadata": {},
   "source": [
    "<ul><li><b>3(h)</b> Give (with justification) an expression for the homogeneous representation of the line passing through two homogeneous points $\\textbf{x}_1$ and $\\textbf{x}_2$. [<em>Hint:</em> Construct an argument analogous to the one for the intersection of two lines in part <b>3(c)</b>.] <div style=\"text-align: right\"><b>[2 Points]</b></div></li></ul>\n",
    "    "
   ]
  },
  {
   "cell_type": "code",
   "execution_count": null,
   "metadata": {},
   "outputs": [],
   "source": []
  },
  {
   "cell_type": "markdown",
   "metadata": {},
   "source": [
    "# Problem 4: Camera Matrices and Rigid-Body Transformations [20 points]\n",
    "  \n",
    "Consider a world coordinate system $W$, centered at the origin $(0, 0, 0)$, with axes given by unit vectors $\\widehat{\\textbf{i}} = (1, 0, 0)^\\top$, $\\; \\widehat{\\textbf{j}} = (0,1,0)^\\top$ and $\\widehat{\\textbf{k}} = (0,0,1)^\\top$. We use a notation where boldfaces stand for a vector and a hat above a boldface letter stands for a unit vector.\n",
    "  \n",
    "<ul>\n",
    "    <li><b>4(a)</b> Consider another coordinate system, with unit vectors along two of the orthogonal axes as:<br> $\\widehat{\\textbf{i}}' =  (0.688, −0.688, 0.229)^\\top$ and $\\widehat{\\textbf{j}}' = (0.267, 0.534, 0.801)^\\top$. Find the unit vector, $\\widehat{\\textbf{k}}'$, along the third axis orthogonal to both $\\widehat{\\textbf{i}}'$ and $\\widehat{\\textbf{j}}'$. Is there a unique such unit vector? If not, choose the one that makes an acute angle with $\\widehat{\\textbf{k}}$.<div style=\"text-align: right\"><b>[2 Points]</b></div></li>\n",
    "</ul>\n",
    "    "
   ]
  },
  {
   "cell_type": "code",
   "execution_count": null,
   "metadata": {},
   "outputs": [],
   "source": []
  },
  {
   "cell_type": "markdown",
   "metadata": {},
   "source": [
    "<ul><li><b>4(b)</b> Find the rotation matrix that rotates any vector in the $(\\widehat{\\textbf{i}}, \\widehat{\\textbf{j}}, \\widehat{\\textbf{k}})$ coordinate system to the $(\\widehat{\\textbf{i}}', \\widehat{\\textbf{j}}', \\widehat{\\textbf{k}}')$ coordinate system.<div style=\"text-align: right\"><b>[2 Points]</b></div></li></ul>\n",
    "    \n",
    "#### !! Hint !!\n",
    "\n",
    "The rotation matrix is given by R =\n",
    "\n",
    "$$\n",
    "\\begin{bmatrix}\n",
    "    u^T \\\\\n",
    "    v^T \\\\\n",
    "    w^T \\\\\n",
    "\\end{bmatrix}\n",
    "$$"
   ]
  },
  {
   "cell_type": "code",
   "execution_count": null,
   "metadata": {},
   "outputs": [],
   "source": []
  },
  {
   "cell_type": "markdown",
   "metadata": {},
   "source": [
    "<ul><li><b>4(c)</b> What is the <em>extrinsic parameter matrix</em> for a camera at a displacement $(-1, -2, -5)^\\top$ from the origin of $W$ and oriented such that its principal axis coincides with $\\widehat{\\textbf{k}}'$, the x-axis of its image plane coincides with $\\widehat{\\textbf{i}}'$ and the y-axis of the image plane coincides with $\\widehat{\\textbf{j}}'$? <div style=\"text-align: right\"><b>[3 Points]</b></div></li></ul>\n",
    "\n",
    "#### !! Hint !!\n",
    "The extrinsic parameter matrix is given by: \n",
    "\n",
    "$$\n",
    "\\left(\\begin{array}{cc} \n",
    "R & -RC\\\\\n",
    "0^{T} & 1\n",
    "\\end{array}\\right)\n",
    "$$\n",
    "\n",
    "where R is the rotation matrix and C is the camera center.\n",
    "    "
   ]
  },
  {
   "cell_type": "code",
   "execution_count": null,
   "metadata": {},
   "outputs": [],
   "source": []
  },
  {
   "cell_type": "markdown",
   "metadata": {},
   "source": [
    "<ul><li><b>4(d)</b> What is the <em>intrinsic parameter matrix</em> for this camera, if its focal length in the x-direction is $1024$ pixels, aspect ratio is $1$, pixels deviate from rectangular by $0$ degrees and principal point is offset from the center $(0, 0)^\\top$ of the image plane to the location $(10, -5)^\\top$?<div style=\"text-align: right\"><b>[3 Points]</b></div></li></ul>\n",
    "    "
   ]
  },
  {
   "cell_type": "code",
   "execution_count": null,
   "metadata": {},
   "outputs": [],
   "source": []
  },
  {
   "cell_type": "markdown",
   "metadata": {},
   "source": [
    "<ul><li><b>4(e)</b> Write down the projection matrix for the camera described by the configuration in parts <b>4(c)</b> and <b>4(d)</b>. <div style=\"text-align: right\"><b>[3 Points]</b></div></li></ul>\n",
    "\n",
    "#### !! Hint !!\n",
    "\n",
    "The projection matrix is given by P = K [ R | −RC ] where K in the intrinsic matrix, R is the rotation matrix and C is the camera center. \n",
    "    "
   ]
  },
  {
   "cell_type": "code",
   "execution_count": null,
   "metadata": {},
   "outputs": [],
   "source": []
  },
  {
   "cell_type": "markdown",
   "metadata": {},
   "source": [
    "<ul><li><b>4(f)</b> Consider a plane, orthogonal to $\\widehat{\\textbf{k}}$, at a displacement of $2$ units from the origin of $W$ along the $\\widehat{\\textbf{k}}$ direction. Consider a circle with radius $1$, centered at $(0, 0, 2)^\\top$ in the coordinate system $W$. We wish to find the image of this circle, as seen by the camera we constructed in part <b>4(e)</b>. The following questions need programming (use Python) and the code for each part should be turned in along with any figures and answers to specific questions. Explain your variable names (with comments). Feel free to supply any additional description or explanation to go with your code. \n",
    "        \n",
    "</li></ul>"
   ]
  },
  {
   "cell_type": "markdown",
   "metadata": {},
   "source": [
    "<ul><ol>\n",
    "            <li> Compute 10000 well-distributed points on the surface of unit circle. One way to do this is to sample the angular range $0$ to $360$ degrees into 10000 equal parts and convert the resulting points from polar coordinates (radius is $1$) to Cartesian coordinates. Display the circle, make sure that the axes of the display figure are equal.<div style=\"text-align: right\"><b>[2 Points]</b></div></li>\n",
    "</ol></ul>\n",
    "\n",
    "### !! Hint !! \n",
    "The following code snippet generates one such random point: \n",
    "    \n",
    "    r = R * sqrt(random()) \n",
    "    theta = random() * 2 * PI`"
   ]
  },
  {
   "cell_type": "code",
   "execution_count": null,
   "metadata": {},
   "outputs": [],
   "source": []
  },
  {
   "cell_type": "markdown",
   "metadata": {},
   "source": [
    "<ul><ol start=\"2\">\n",
    "<li> Add the $z$ coordinate to these points, which is $2$ for all of them. Make all the points homogeneous by adding a fourth coordinate equal to $1$. <div style=\"text-align: right\"><b>[1 Point]</b></div></li>\n",
    "</ol></ul>        "
   ]
  },
  {
   "cell_type": "code",
   "execution_count": null,
   "metadata": {},
   "outputs": [],
   "source": []
  },
  {
   "cell_type": "markdown",
   "metadata": {},
   "source": [
    "<ul><ol start=\"3\">\n",
    "<li> Compute the projection of these homogeneous points using the camera matrix from part <b>4(e)</b>. Convert the homogeneous projected points to 2D Cartesian points by dividing out (and subsequently discarding) the third coordinate of each point.<div style=\"text-align: right\"><b>[2 Points]</b></div></li>\n",
    "</ol></ul>        "
   ]
  },
  {
   "cell_type": "code",
   "execution_count": null,
   "metadata": {},
   "outputs": [],
   "source": []
  },
  {
   "cell_type": "markdown",
   "metadata": {},
   "source": [
    "<ul><ol start=\"4\">\n",
    "<li> Plot the projected 2D points, again ensure that the axes of your plot are equal. What is the shape of the image of a circle? <div style=\"text-align: right\"><b>[2 Points]</b></div></li>\n",
    "</ol></ul>"
   ]
  },
  {
   "cell_type": "code",
   "execution_count": null,
   "metadata": {},
   "outputs": [],
   "source": []
  }
 ],
 "metadata": {
  "kernelspec": {
   "display_name": "Python 3 (ipykernel)",
   "language": "python",
   "name": "python3"
  },
  "language_info": {
   "codemirror_mode": {
    "name": "ipython",
    "version": 3
   },
   "file_extension": ".py",
   "mimetype": "text/x-python",
   "name": "python",
   "nbconvert_exporter": "python",
   "pygments_lexer": "ipython3",
   "version": "3.9.12"
  }
 },
 "nbformat": 4,
 "nbformat_minor": 4
}
